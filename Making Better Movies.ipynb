{
 "cells": [
  {
   "cell_type": "markdown",
   "id": "dacf717d",
   "metadata": {
    "heading_collapsed": true
   },
   "source": [
    "# Part 1"
   ]
  },
  {
   "cell_type": "markdown",
   "id": "18ad7623",
   "metadata": {
    "hidden": true
   },
   "source": [
    "\n",
    "* Your stakeholder only wants you to include information for movies based on the following specifications:\n",
    "\n",
    "* Exclude any movie with missing values for genre or runtime\n",
    "\n",
    "* Include only full-length movies (titleType = \"movie\").\n",
    "\n",
    "* Include only fictional movies (not from documentary genre)\n",
    "\n",
    "* Include only movies that were released 2000 - 2021 (include 2000 and 2021)\n",
    "\n",
    "* Include only movies that were released in the United States"
   ]
  },
  {
   "cell_type": "markdown",
   "id": "2505163e",
   "metadata": {
    "hidden": true
   },
   "source": [
    "## Imports and Data"
   ]
  },
  {
   "cell_type": "code",
   "execution_count": 1,
   "id": "32cd2249",
   "metadata": {
    "hidden": true
   },
   "outputs": [],
   "source": [
    "#imports\n",
    "\n",
    "import pandas as pd \n",
    "import numpy as np\n",
    "from sklearn.linear_model import LinearRegression"
   ]
  },
  {
   "cell_type": "code",
   "execution_count": 2,
   "id": "182ae29b",
   "metadata": {
    "hidden": true
   },
   "outputs": [],
   "source": [
    "# getting urls\n",
    "\n",
    "basics_url = 'https://datasets.imdbws.com/title.basics.tsv.gz'\n",
    "akas_url = 'https://datasets.imdbws.com/title.akas.tsv.gz'\n",
    "ratings_url = 'https://datasets.imdbws.com/title.ratings.tsv.gz' "
   ]
  },
  {
   "cell_type": "code",
   "execution_count": 3,
   "id": "821fec97",
   "metadata": {
    "hidden": true
   },
   "outputs": [],
   "source": [
    "#storing urls\n",
    "\n",
    "basics = pd.read_csv(basics_url, sep='\\t', low_memory=False)\n",
    "akas = pd.read_csv(akas_url, sep ='\\t', low_memory = False)\n",
    "ratings = pd.read_csv(ratings_url, sep = '\\t', low_memory = False)\n"
   ]
  },
  {
   "cell_type": "markdown",
   "id": "042a1dbd",
   "metadata": {
    "hidden": true
   },
   "source": [
    "## Basics Data and Cleaning"
   ]
  },
  {
   "cell_type": "code",
   "execution_count": 4,
   "id": "65119140",
   "metadata": {
    "hidden": true,
    "scrolled": true
   },
   "outputs": [
    {
     "data": {
      "text/html": [
       "<div>\n",
       "<style scoped>\n",
       "    .dataframe tbody tr th:only-of-type {\n",
       "        vertical-align: middle;\n",
       "    }\n",
       "\n",
       "    .dataframe tbody tr th {\n",
       "        vertical-align: top;\n",
       "    }\n",
       "\n",
       "    .dataframe thead th {\n",
       "        text-align: right;\n",
       "    }\n",
       "</style>\n",
       "<table border=\"1\" class=\"dataframe\">\n",
       "  <thead>\n",
       "    <tr style=\"text-align: right;\">\n",
       "      <th></th>\n",
       "      <th>tconst</th>\n",
       "      <th>titleType</th>\n",
       "      <th>primaryTitle</th>\n",
       "      <th>originalTitle</th>\n",
       "      <th>isAdult</th>\n",
       "      <th>startYear</th>\n",
       "      <th>endYear</th>\n",
       "      <th>runtimeMinutes</th>\n",
       "      <th>genres</th>\n",
       "    </tr>\n",
       "  </thead>\n",
       "  <tbody>\n",
       "    <tr>\n",
       "      <th>0</th>\n",
       "      <td>tt0000001</td>\n",
       "      <td>short</td>\n",
       "      <td>Carmencita</td>\n",
       "      <td>Carmencita</td>\n",
       "      <td>0</td>\n",
       "      <td>1894</td>\n",
       "      <td>\\N</td>\n",
       "      <td>1</td>\n",
       "      <td>Documentary,Short</td>\n",
       "    </tr>\n",
       "    <tr>\n",
       "      <th>1</th>\n",
       "      <td>tt0000002</td>\n",
       "      <td>short</td>\n",
       "      <td>Le clown et ses chiens</td>\n",
       "      <td>Le clown et ses chiens</td>\n",
       "      <td>0</td>\n",
       "      <td>1892</td>\n",
       "      <td>\\N</td>\n",
       "      <td>5</td>\n",
       "      <td>Animation,Short</td>\n",
       "    </tr>\n",
       "    <tr>\n",
       "      <th>2</th>\n",
       "      <td>tt0000003</td>\n",
       "      <td>short</td>\n",
       "      <td>Pauvre Pierrot</td>\n",
       "      <td>Pauvre Pierrot</td>\n",
       "      <td>0</td>\n",
       "      <td>1892</td>\n",
       "      <td>\\N</td>\n",
       "      <td>4</td>\n",
       "      <td>Animation,Comedy,Romance</td>\n",
       "    </tr>\n",
       "    <tr>\n",
       "      <th>3</th>\n",
       "      <td>tt0000004</td>\n",
       "      <td>short</td>\n",
       "      <td>Un bon bock</td>\n",
       "      <td>Un bon bock</td>\n",
       "      <td>0</td>\n",
       "      <td>1892</td>\n",
       "      <td>\\N</td>\n",
       "      <td>12</td>\n",
       "      <td>Animation,Short</td>\n",
       "    </tr>\n",
       "    <tr>\n",
       "      <th>4</th>\n",
       "      <td>tt0000005</td>\n",
       "      <td>short</td>\n",
       "      <td>Blacksmith Scene</td>\n",
       "      <td>Blacksmith Scene</td>\n",
       "      <td>0</td>\n",
       "      <td>1893</td>\n",
       "      <td>\\N</td>\n",
       "      <td>1</td>\n",
       "      <td>Comedy,Short</td>\n",
       "    </tr>\n",
       "  </tbody>\n",
       "</table>\n",
       "</div>"
      ],
      "text/plain": [
       "      tconst titleType            primaryTitle           originalTitle  \\\n",
       "0  tt0000001     short              Carmencita              Carmencita   \n",
       "1  tt0000002     short  Le clown et ses chiens  Le clown et ses chiens   \n",
       "2  tt0000003     short          Pauvre Pierrot          Pauvre Pierrot   \n",
       "3  tt0000004     short             Un bon bock             Un bon bock   \n",
       "4  tt0000005     short        Blacksmith Scene        Blacksmith Scene   \n",
       "\n",
       "  isAdult startYear endYear runtimeMinutes                    genres  \n",
       "0       0      1894      \\N              1         Documentary,Short  \n",
       "1       0      1892      \\N              5           Animation,Short  \n",
       "2       0      1892      \\N              4  Animation,Comedy,Romance  \n",
       "3       0      1892      \\N             12           Animation,Short  \n",
       "4       0      1893      \\N              1              Comedy,Short  "
      ]
     },
     "execution_count": 4,
     "metadata": {},
     "output_type": "execute_result"
    }
   ],
   "source": [
    "# Exploring df\n",
    "\n",
    "basics.head()"
   ]
  },
  {
   "cell_type": "code",
   "execution_count": 5,
   "id": "e5108ced",
   "metadata": {
    "hidden": true
   },
   "outputs": [
    {
     "name": "stdout",
     "output_type": "stream",
     "text": [
      "<class 'pandas.core.frame.DataFrame'>\n",
      "RangeIndex: 9244025 entries, 0 to 9244024\n",
      "Data columns (total 9 columns):\n",
      " #   Column          Dtype \n",
      "---  ------          ----- \n",
      " 0   tconst          object\n",
      " 1   titleType       object\n",
      " 2   primaryTitle    object\n",
      " 3   originalTitle   object\n",
      " 4   isAdult         object\n",
      " 5   startYear       object\n",
      " 6   endYear         object\n",
      " 7   runtimeMinutes  object\n",
      " 8   genres          object\n",
      "dtypes: object(9)\n",
      "memory usage: 634.7+ MB\n"
     ]
    }
   ],
   "source": [
    "#Checking types\n",
    "\n",
    "basics.info()"
   ]
  },
  {
   "cell_type": "code",
   "execution_count": 6,
   "id": "1b336c88",
   "metadata": {
    "hidden": true
   },
   "outputs": [
    {
     "data": {
      "text/plain": [
       "tconst             0\n",
       "titleType          0\n",
       "primaryTitle      11\n",
       "originalTitle     11\n",
       "isAdult            0\n",
       "startYear          0\n",
       "endYear            0\n",
       "runtimeMinutes     0\n",
       "genres            10\n",
       "dtype: int64"
      ]
     },
     "execution_count": 6,
     "metadata": {},
     "output_type": "execute_result"
    }
   ],
   "source": [
    "basics.isna().sum()"
   ]
  },
  {
   "cell_type": "code",
   "execution_count": 7,
   "id": "57bb9e95",
   "metadata": {
    "hidden": true
   },
   "outputs": [
    {
     "data": {
      "text/html": [
       "<div>\n",
       "<style scoped>\n",
       "    .dataframe tbody tr th:only-of-type {\n",
       "        vertical-align: middle;\n",
       "    }\n",
       "\n",
       "    .dataframe tbody tr th {\n",
       "        vertical-align: top;\n",
       "    }\n",
       "\n",
       "    .dataframe thead th {\n",
       "        text-align: right;\n",
       "    }\n",
       "</style>\n",
       "<table border=\"1\" class=\"dataframe\">\n",
       "  <thead>\n",
       "    <tr style=\"text-align: right;\">\n",
       "      <th></th>\n",
       "      <th>tconst</th>\n",
       "      <th>titleType</th>\n",
       "      <th>primaryTitle</th>\n",
       "      <th>originalTitle</th>\n",
       "      <th>isAdult</th>\n",
       "      <th>startYear</th>\n",
       "      <th>endYear</th>\n",
       "      <th>runtimeMinutes</th>\n",
       "      <th>genres</th>\n",
       "    </tr>\n",
       "  </thead>\n",
       "  <tbody>\n",
       "    <tr>\n",
       "      <th>0</th>\n",
       "      <td>tt0000001</td>\n",
       "      <td>short</td>\n",
       "      <td>Carmencita</td>\n",
       "      <td>Carmencita</td>\n",
       "      <td>0</td>\n",
       "      <td>1894</td>\n",
       "      <td>NaN</td>\n",
       "      <td>1</td>\n",
       "      <td>Documentary,Short</td>\n",
       "    </tr>\n",
       "    <tr>\n",
       "      <th>1</th>\n",
       "      <td>tt0000002</td>\n",
       "      <td>short</td>\n",
       "      <td>Le clown et ses chiens</td>\n",
       "      <td>Le clown et ses chiens</td>\n",
       "      <td>0</td>\n",
       "      <td>1892</td>\n",
       "      <td>NaN</td>\n",
       "      <td>5</td>\n",
       "      <td>Animation,Short</td>\n",
       "    </tr>\n",
       "    <tr>\n",
       "      <th>2</th>\n",
       "      <td>tt0000003</td>\n",
       "      <td>short</td>\n",
       "      <td>Pauvre Pierrot</td>\n",
       "      <td>Pauvre Pierrot</td>\n",
       "      <td>0</td>\n",
       "      <td>1892</td>\n",
       "      <td>NaN</td>\n",
       "      <td>4</td>\n",
       "      <td>Animation,Comedy,Romance</td>\n",
       "    </tr>\n",
       "    <tr>\n",
       "      <th>3</th>\n",
       "      <td>tt0000004</td>\n",
       "      <td>short</td>\n",
       "      <td>Un bon bock</td>\n",
       "      <td>Un bon bock</td>\n",
       "      <td>0</td>\n",
       "      <td>1892</td>\n",
       "      <td>NaN</td>\n",
       "      <td>12</td>\n",
       "      <td>Animation,Short</td>\n",
       "    </tr>\n",
       "    <tr>\n",
       "      <th>4</th>\n",
       "      <td>tt0000005</td>\n",
       "      <td>short</td>\n",
       "      <td>Blacksmith Scene</td>\n",
       "      <td>Blacksmith Scene</td>\n",
       "      <td>0</td>\n",
       "      <td>1893</td>\n",
       "      <td>NaN</td>\n",
       "      <td>1</td>\n",
       "      <td>Comedy,Short</td>\n",
       "    </tr>\n",
       "  </tbody>\n",
       "</table>\n",
       "</div>"
      ],
      "text/plain": [
       "      tconst titleType            primaryTitle           originalTitle  \\\n",
       "0  tt0000001     short              Carmencita              Carmencita   \n",
       "1  tt0000002     short  Le clown et ses chiens  Le clown et ses chiens   \n",
       "2  tt0000003     short          Pauvre Pierrot          Pauvre Pierrot   \n",
       "3  tt0000004     short             Un bon bock             Un bon bock   \n",
       "4  tt0000005     short        Blacksmith Scene        Blacksmith Scene   \n",
       "\n",
       "  isAdult startYear endYear runtimeMinutes                    genres  \n",
       "0       0      1894     NaN              1         Documentary,Short  \n",
       "1       0      1892     NaN              5           Animation,Short  \n",
       "2       0      1892     NaN              4  Animation,Comedy,Romance  \n",
       "3       0      1892     NaN             12           Animation,Short  \n",
       "4       0      1893     NaN              1              Comedy,Short  "
      ]
     },
     "execution_count": 7,
     "metadata": {},
     "output_type": "execute_result"
    }
   ],
   "source": [
    "# data dictionary indicates nans replaced with /N, replacing with np.nan\n",
    "basics.replace({'\\\\N':np.nan}, inplace = True)\n",
    "basics.head()"
   ]
  },
  {
   "cell_type": "code",
   "execution_count": 8,
   "id": "6282fefc",
   "metadata": {
    "hidden": true
   },
   "outputs": [
    {
     "data": {
      "text/plain": [
       "tconst            0\n",
       "titleType         0\n",
       "primaryTitle      0\n",
       "originalTitle     0\n",
       "isAdult           0\n",
       "startYear         0\n",
       "endYear           0\n",
       "runtimeMinutes    0\n",
       "genres            0\n",
       "dtype: int64"
      ]
     },
     "execution_count": 8,
     "metadata": {},
     "output_type": "execute_result"
    }
   ],
   "source": [
    "#Dropping na columns\n",
    "basics.dropna(inplace = True) \n",
    "basics.isna().sum()"
   ]
  },
  {
   "cell_type": "code",
   "execution_count": 9,
   "id": "2f1c3b6c",
   "metadata": {
    "hidden": true
   },
   "outputs": [
    {
     "data": {
      "text/plain": [
       "0"
      ]
     },
     "execution_count": 9,
     "metadata": {},
     "output_type": "execute_result"
    }
   ],
   "source": [
    "#checking for duplicate rows\n",
    "basics.duplicated().sum()"
   ]
  },
  {
   "cell_type": "code",
   "execution_count": 10,
   "id": "a5702825",
   "metadata": {
    "hidden": true
   },
   "outputs": [],
   "source": [
    "#Changing start year dtype from object to int \n",
    "basics['startYear'] = basics['startYear'].astype(int)\n",
    "basics = basics.loc[(basics['startYear'] >=2000) & (basics['startYear'] <=2022)]"
   ]
  },
  {
   "cell_type": "code",
   "execution_count": 11,
   "id": "aa25410f",
   "metadata": {
    "hidden": true
   },
   "outputs": [
    {
     "name": "stdout",
     "output_type": "stream",
     "text": [
      "Data type of each column startYear in the Dataframe :\n",
      "int32\n"
     ]
    }
   ],
   "source": [
    "# get data type of column 'startYear'\n",
    "dataType = basics.dtypes['startYear']\n",
    "print('Data type of each column startYear in the Dataframe :')\n",
    "print(dataType)"
   ]
  },
  {
   "cell_type": "code",
   "execution_count": 12,
   "id": "10c005a7",
   "metadata": {
    "hidden": true
   },
   "outputs": [
    {
     "data": {
      "text/html": [
       "<div>\n",
       "<style scoped>\n",
       "    .dataframe tbody tr th:only-of-type {\n",
       "        vertical-align: middle;\n",
       "    }\n",
       "\n",
       "    .dataframe tbody tr th {\n",
       "        vertical-align: top;\n",
       "    }\n",
       "\n",
       "    .dataframe thead th {\n",
       "        text-align: right;\n",
       "    }\n",
       "</style>\n",
       "<table border=\"1\" class=\"dataframe\">\n",
       "  <thead>\n",
       "    <tr style=\"text-align: right;\">\n",
       "      <th></th>\n",
       "      <th>tconst</th>\n",
       "      <th>titleType</th>\n",
       "      <th>primaryTitle</th>\n",
       "      <th>originalTitle</th>\n",
       "      <th>isAdult</th>\n",
       "      <th>startYear</th>\n",
       "      <th>endYear</th>\n",
       "      <th>runtimeMinutes</th>\n",
       "      <th>genres</th>\n",
       "    </tr>\n",
       "  </thead>\n",
       "  <tbody>\n",
       "    <tr>\n",
       "      <th>108529</th>\n",
       "      <td>tt0111056</td>\n",
       "      <td>tvSeries</td>\n",
       "      <td>Gensomaden Saiyuki</td>\n",
       "      <td>Gensomaden Saiyuki</td>\n",
       "      <td>0</td>\n",
       "      <td>2000</td>\n",
       "      <td>2001</td>\n",
       "      <td>23</td>\n",
       "      <td>Action,Adventure,Animation</td>\n",
       "    </tr>\n",
       "    <tr>\n",
       "      <th>137803</th>\n",
       "      <td>tt0142032</td>\n",
       "      <td>tvMiniSeries</td>\n",
       "      <td>Dune</td>\n",
       "      <td>Dune</td>\n",
       "      <td>0</td>\n",
       "      <td>2000</td>\n",
       "      <td>2000</td>\n",
       "      <td>265</td>\n",
       "      <td>Adventure,Drama,Sci-Fi</td>\n",
       "    </tr>\n",
       "    <tr>\n",
       "      <th>153524</th>\n",
       "      <td>tt0158466</td>\n",
       "      <td>tvMiniSeries</td>\n",
       "      <td>Anne of Green Gables: The Continuing Story</td>\n",
       "      <td>Anne of Green Gables: The Continuing Story</td>\n",
       "      <td>0</td>\n",
       "      <td>2000</td>\n",
       "      <td>2000</td>\n",
       "      <td>185</td>\n",
       "      <td>Drama,Family,Romance</td>\n",
       "    </tr>\n",
       "    <tr>\n",
       "      <th>155717</th>\n",
       "      <td>tt0160904</td>\n",
       "      <td>tvSeries</td>\n",
       "      <td>MI-5</td>\n",
       "      <td>Spooks</td>\n",
       "      <td>0</td>\n",
       "      <td>2002</td>\n",
       "      <td>2011</td>\n",
       "      <td>60</td>\n",
       "      <td>Action,Crime,Drama</td>\n",
       "    </tr>\n",
       "    <tr>\n",
       "      <th>158583</th>\n",
       "      <td>tt0163944</td>\n",
       "      <td>tvMiniSeries</td>\n",
       "      <td>Labyrinten</td>\n",
       "      <td>Labyrinten</td>\n",
       "      <td>0</td>\n",
       "      <td>2000</td>\n",
       "      <td>2000</td>\n",
       "      <td>259</td>\n",
       "      <td>Drama,Thriller</td>\n",
       "    </tr>\n",
       "    <tr>\n",
       "      <th>...</th>\n",
       "      <td>...</td>\n",
       "      <td>...</td>\n",
       "      <td>...</td>\n",
       "      <td>...</td>\n",
       "      <td>...</td>\n",
       "      <td>...</td>\n",
       "      <td>...</td>\n",
       "      <td>...</td>\n",
       "      <td>...</td>\n",
       "    </tr>\n",
       "    <tr>\n",
       "      <th>9243198</th>\n",
       "      <td>tt9915022</td>\n",
       "      <td>tvSeries</td>\n",
       "      <td>Yarali Kuslar</td>\n",
       "      <td>Yarali Kuslar</td>\n",
       "      <td>0</td>\n",
       "      <td>2019</td>\n",
       "      <td>2019</td>\n",
       "      <td>90</td>\n",
       "      <td>Drama</td>\n",
       "    </tr>\n",
       "    <tr>\n",
       "      <th>9243231</th>\n",
       "      <td>tt9915114</td>\n",
       "      <td>tvSeries</td>\n",
       "      <td>Touche pas à mon sport</td>\n",
       "      <td>Touche pas à mon sport</td>\n",
       "      <td>0</td>\n",
       "      <td>2015</td>\n",
       "      <td>2016</td>\n",
       "      <td>65</td>\n",
       "      <td>Sport,Talk-Show</td>\n",
       "    </tr>\n",
       "    <tr>\n",
       "      <th>9243332</th>\n",
       "      <td>tt9915338</td>\n",
       "      <td>tvSeries</td>\n",
       "      <td>Aunty Donna: Camp Bush Camp!</td>\n",
       "      <td>Aunty Donna: Camp Bush Camp!</td>\n",
       "      <td>0</td>\n",
       "      <td>2018</td>\n",
       "      <td>2018</td>\n",
       "      <td>5</td>\n",
       "      <td>Comedy</td>\n",
       "    </tr>\n",
       "    <tr>\n",
       "      <th>9243538</th>\n",
       "      <td>tt9915822</td>\n",
       "      <td>tvSeries</td>\n",
       "      <td>Ichhapyaari Naagin</td>\n",
       "      <td>Ichhapyaari Naagin</td>\n",
       "      <td>0</td>\n",
       "      <td>2016</td>\n",
       "      <td>2017</td>\n",
       "      <td>20</td>\n",
       "      <td>Fantasy</td>\n",
       "    </tr>\n",
       "    <tr>\n",
       "      <th>9243718</th>\n",
       "      <td>tt9916216</td>\n",
       "      <td>tvSeries</td>\n",
       "      <td>Kalyanam Mudhal Kadhal Varai</td>\n",
       "      <td>Kalyanam Mudhal Kadhal Varai</td>\n",
       "      <td>0</td>\n",
       "      <td>2014</td>\n",
       "      <td>2017</td>\n",
       "      <td>22</td>\n",
       "      <td>Romance</td>\n",
       "    </tr>\n",
       "  </tbody>\n",
       "</table>\n",
       "<p>22376 rows × 9 columns</p>\n",
       "</div>"
      ],
      "text/plain": [
       "            tconst     titleType                                primaryTitle  \\\n",
       "108529   tt0111056      tvSeries                          Gensomaden Saiyuki   \n",
       "137803   tt0142032  tvMiniSeries                                        Dune   \n",
       "153524   tt0158466  tvMiniSeries  Anne of Green Gables: The Continuing Story   \n",
       "155717   tt0160904      tvSeries                                        MI-5   \n",
       "158583   tt0163944  tvMiniSeries                                  Labyrinten   \n",
       "...            ...           ...                                         ...   \n",
       "9243198  tt9915022      tvSeries                               Yarali Kuslar   \n",
       "9243231  tt9915114      tvSeries                      Touche pas à mon sport   \n",
       "9243332  tt9915338      tvSeries                Aunty Donna: Camp Bush Camp!   \n",
       "9243538  tt9915822      tvSeries                          Ichhapyaari Naagin   \n",
       "9243718  tt9916216      tvSeries                Kalyanam Mudhal Kadhal Varai   \n",
       "\n",
       "                                      originalTitle isAdult  startYear  \\\n",
       "108529                           Gensomaden Saiyuki       0       2000   \n",
       "137803                                         Dune       0       2000   \n",
       "153524   Anne of Green Gables: The Continuing Story       0       2000   \n",
       "155717                                       Spooks       0       2002   \n",
       "158583                                   Labyrinten       0       2000   \n",
       "...                                             ...     ...        ...   \n",
       "9243198                               Yarali Kuslar       0       2019   \n",
       "9243231                      Touche pas à mon sport       0       2015   \n",
       "9243332                Aunty Donna: Camp Bush Camp!       0       2018   \n",
       "9243538                          Ichhapyaari Naagin       0       2016   \n",
       "9243718                Kalyanam Mudhal Kadhal Varai       0       2014   \n",
       "\n",
       "        endYear runtimeMinutes                      genres  \n",
       "108529     2001             23  Action,Adventure,Animation  \n",
       "137803     2000            265      Adventure,Drama,Sci-Fi  \n",
       "153524     2000            185        Drama,Family,Romance  \n",
       "155717     2011             60          Action,Crime,Drama  \n",
       "158583     2000            259              Drama,Thriller  \n",
       "...         ...            ...                         ...  \n",
       "9243198    2019             90                       Drama  \n",
       "9243231    2016             65             Sport,Talk-Show  \n",
       "9243332    2018              5                      Comedy  \n",
       "9243538    2017             20                     Fantasy  \n",
       "9243718    2017             22                     Romance  \n",
       "\n",
       "[22376 rows x 9 columns]"
      ]
     },
     "execution_count": 12,
     "metadata": {},
     "output_type": "execute_result"
    }
   ],
   "source": [
    "# Exclude movies that are included in the documentary category.\n",
    "is_documentary = basics['genres'].str.contains('documentary',case=False)\n",
    "basics = basics[~is_documentary]\n",
    "\n",
    "basics"
   ]
  },
  {
   "cell_type": "code",
   "execution_count": 13,
   "id": "3bb29c75",
   "metadata": {
    "hidden": true
   },
   "outputs": [
    {
     "data": {
      "text/html": [
       "<div>\n",
       "<style scoped>\n",
       "    .dataframe tbody tr th:only-of-type {\n",
       "        vertical-align: middle;\n",
       "    }\n",
       "\n",
       "    .dataframe tbody tr th {\n",
       "        vertical-align: top;\n",
       "    }\n",
       "\n",
       "    .dataframe thead th {\n",
       "        text-align: right;\n",
       "    }\n",
       "</style>\n",
       "<table border=\"1\" class=\"dataframe\">\n",
       "  <thead>\n",
       "    <tr style=\"text-align: right;\">\n",
       "      <th></th>\n",
       "      <th>tconst</th>\n",
       "      <th>titleType</th>\n",
       "      <th>primaryTitle</th>\n",
       "      <th>originalTitle</th>\n",
       "      <th>isAdult</th>\n",
       "      <th>startYear</th>\n",
       "      <th>endYear</th>\n",
       "      <th>runtimeMinutes</th>\n",
       "      <th>genres</th>\n",
       "    </tr>\n",
       "  </thead>\n",
       "  <tbody>\n",
       "  </tbody>\n",
       "</table>\n",
       "</div>"
      ],
      "text/plain": [
       "Empty DataFrame\n",
       "Columns: [tconst, titleType, primaryTitle, originalTitle, isAdult, startYear, endYear, runtimeMinutes, genres]\n",
       "Index: []"
      ]
     },
     "execution_count": 13,
     "metadata": {},
     "output_type": "execute_result"
    }
   ],
   "source": [
    "# getting all the movies\n",
    "is_movie = basics['titleType'].str.contains('Movie', case = False)\n",
    "basics = basics[is_movie]\n",
    "\n",
    "basics"
   ]
  },
  {
   "cell_type": "code",
   "execution_count": 14,
   "id": "144fa727",
   "metadata": {
    "hidden": true
   },
   "outputs": [
    {
     "name": "stdout",
     "output_type": "stream",
     "text": [
      "<class 'pandas.core.frame.DataFrame'>\n",
      "Int64Index: 0 entries\n",
      "Data columns (total 9 columns):\n",
      " #   Column          Non-Null Count  Dtype \n",
      "---  ------          --------------  ----- \n",
      " 0   tconst          0 non-null      object\n",
      " 1   titleType       0 non-null      object\n",
      " 2   primaryTitle    0 non-null      object\n",
      " 3   originalTitle   0 non-null      object\n",
      " 4   isAdult         0 non-null      object\n",
      " 5   startYear       0 non-null      int32 \n",
      " 6   endYear         0 non-null      object\n",
      " 7   runtimeMinutes  0 non-null      object\n",
      " 8   genres          0 non-null      object\n",
      "dtypes: int32(1), object(8)\n",
      "memory usage: 0.0+ bytes\n"
     ]
    }
   ],
   "source": [
    "#checking info is consistent\n",
    "basics.info()"
   ]
  },
  {
   "cell_type": "markdown",
   "id": "6ffe0402",
   "metadata": {
    "hidden": true
   },
   "source": [
    "## AKAS Data and Cleaning"
   ]
  },
  {
   "cell_type": "code",
   "execution_count": 15,
   "id": "9d0f78e5",
   "metadata": {
    "hidden": true
   },
   "outputs": [
    {
     "data": {
      "text/html": [
       "<div>\n",
       "<style scoped>\n",
       "    .dataframe tbody tr th:only-of-type {\n",
       "        vertical-align: middle;\n",
       "    }\n",
       "\n",
       "    .dataframe tbody tr th {\n",
       "        vertical-align: top;\n",
       "    }\n",
       "\n",
       "    .dataframe thead th {\n",
       "        text-align: right;\n",
       "    }\n",
       "</style>\n",
       "<table border=\"1\" class=\"dataframe\">\n",
       "  <thead>\n",
       "    <tr style=\"text-align: right;\">\n",
       "      <th></th>\n",
       "      <th>titleId</th>\n",
       "      <th>ordering</th>\n",
       "      <th>title</th>\n",
       "      <th>region</th>\n",
       "      <th>language</th>\n",
       "      <th>types</th>\n",
       "      <th>attributes</th>\n",
       "      <th>isOriginalTitle</th>\n",
       "    </tr>\n",
       "  </thead>\n",
       "  <tbody>\n",
       "    <tr>\n",
       "      <th>0</th>\n",
       "      <td>tt0000001</td>\n",
       "      <td>1</td>\n",
       "      <td>Карменсіта</td>\n",
       "      <td>UA</td>\n",
       "      <td>\\N</td>\n",
       "      <td>imdbDisplay</td>\n",
       "      <td>\\N</td>\n",
       "      <td>0</td>\n",
       "    </tr>\n",
       "    <tr>\n",
       "      <th>1</th>\n",
       "      <td>tt0000001</td>\n",
       "      <td>2</td>\n",
       "      <td>Carmencita</td>\n",
       "      <td>DE</td>\n",
       "      <td>\\N</td>\n",
       "      <td>\\N</td>\n",
       "      <td>literal title</td>\n",
       "      <td>0</td>\n",
       "    </tr>\n",
       "    <tr>\n",
       "      <th>2</th>\n",
       "      <td>tt0000001</td>\n",
       "      <td>3</td>\n",
       "      <td>Carmencita - spanyol tánc</td>\n",
       "      <td>HU</td>\n",
       "      <td>\\N</td>\n",
       "      <td>imdbDisplay</td>\n",
       "      <td>\\N</td>\n",
       "      <td>0</td>\n",
       "    </tr>\n",
       "    <tr>\n",
       "      <th>3</th>\n",
       "      <td>tt0000001</td>\n",
       "      <td>4</td>\n",
       "      <td>Καρμενσίτα</td>\n",
       "      <td>GR</td>\n",
       "      <td>\\N</td>\n",
       "      <td>imdbDisplay</td>\n",
       "      <td>\\N</td>\n",
       "      <td>0</td>\n",
       "    </tr>\n",
       "    <tr>\n",
       "      <th>4</th>\n",
       "      <td>tt0000001</td>\n",
       "      <td>5</td>\n",
       "      <td>Карменсита</td>\n",
       "      <td>RU</td>\n",
       "      <td>\\N</td>\n",
       "      <td>imdbDisplay</td>\n",
       "      <td>\\N</td>\n",
       "      <td>0</td>\n",
       "    </tr>\n",
       "  </tbody>\n",
       "</table>\n",
       "</div>"
      ],
      "text/plain": [
       "     titleId  ordering                      title region language  \\\n",
       "0  tt0000001         1                 Карменсіта     UA       \\N   \n",
       "1  tt0000001         2                 Carmencita     DE       \\N   \n",
       "2  tt0000001         3  Carmencita - spanyol tánc     HU       \\N   \n",
       "3  tt0000001         4                 Καρμενσίτα     GR       \\N   \n",
       "4  tt0000001         5                 Карменсита     RU       \\N   \n",
       "\n",
       "         types     attributes isOriginalTitle  \n",
       "0  imdbDisplay             \\N               0  \n",
       "1           \\N  literal title               0  \n",
       "2  imdbDisplay             \\N               0  \n",
       "3  imdbDisplay             \\N               0  \n",
       "4  imdbDisplay             \\N               0  "
      ]
     },
     "execution_count": 15,
     "metadata": {},
     "output_type": "execute_result"
    }
   ],
   "source": [
    "akas.head()"
   ]
  },
  {
   "cell_type": "code",
   "execution_count": 16,
   "id": "e0c8e1cc",
   "metadata": {
    "hidden": true
   },
   "outputs": [
    {
     "data": {
      "text/html": [
       "<div>\n",
       "<style scoped>\n",
       "    .dataframe tbody tr th:only-of-type {\n",
       "        vertical-align: middle;\n",
       "    }\n",
       "\n",
       "    .dataframe tbody tr th {\n",
       "        vertical-align: top;\n",
       "    }\n",
       "\n",
       "    .dataframe thead th {\n",
       "        text-align: right;\n",
       "    }\n",
       "</style>\n",
       "<table border=\"1\" class=\"dataframe\">\n",
       "  <thead>\n",
       "    <tr style=\"text-align: right;\">\n",
       "      <th></th>\n",
       "      <th>titleId</th>\n",
       "      <th>ordering</th>\n",
       "      <th>title</th>\n",
       "      <th>region</th>\n",
       "      <th>language</th>\n",
       "      <th>types</th>\n",
       "      <th>attributes</th>\n",
       "      <th>isOriginalTitle</th>\n",
       "    </tr>\n",
       "  </thead>\n",
       "  <tbody>\n",
       "    <tr>\n",
       "      <th>0</th>\n",
       "      <td>tt0000001</td>\n",
       "      <td>1</td>\n",
       "      <td>Карменсіта</td>\n",
       "      <td>UA</td>\n",
       "      <td>NaN</td>\n",
       "      <td>imdbDisplay</td>\n",
       "      <td>NaN</td>\n",
       "      <td>0</td>\n",
       "    </tr>\n",
       "    <tr>\n",
       "      <th>1</th>\n",
       "      <td>tt0000001</td>\n",
       "      <td>2</td>\n",
       "      <td>Carmencita</td>\n",
       "      <td>DE</td>\n",
       "      <td>NaN</td>\n",
       "      <td>NaN</td>\n",
       "      <td>literal title</td>\n",
       "      <td>0</td>\n",
       "    </tr>\n",
       "    <tr>\n",
       "      <th>2</th>\n",
       "      <td>tt0000001</td>\n",
       "      <td>3</td>\n",
       "      <td>Carmencita - spanyol tánc</td>\n",
       "      <td>HU</td>\n",
       "      <td>NaN</td>\n",
       "      <td>imdbDisplay</td>\n",
       "      <td>NaN</td>\n",
       "      <td>0</td>\n",
       "    </tr>\n",
       "    <tr>\n",
       "      <th>3</th>\n",
       "      <td>tt0000001</td>\n",
       "      <td>4</td>\n",
       "      <td>Καρμενσίτα</td>\n",
       "      <td>GR</td>\n",
       "      <td>NaN</td>\n",
       "      <td>imdbDisplay</td>\n",
       "      <td>NaN</td>\n",
       "      <td>0</td>\n",
       "    </tr>\n",
       "    <tr>\n",
       "      <th>4</th>\n",
       "      <td>tt0000001</td>\n",
       "      <td>5</td>\n",
       "      <td>Карменсита</td>\n",
       "      <td>RU</td>\n",
       "      <td>NaN</td>\n",
       "      <td>imdbDisplay</td>\n",
       "      <td>NaN</td>\n",
       "      <td>0</td>\n",
       "    </tr>\n",
       "  </tbody>\n",
       "</table>\n",
       "</div>"
      ],
      "text/plain": [
       "     titleId  ordering                      title region language  \\\n",
       "0  tt0000001         1                 Карменсіта     UA      NaN   \n",
       "1  tt0000001         2                 Carmencita     DE      NaN   \n",
       "2  tt0000001         3  Carmencita - spanyol tánc     HU      NaN   \n",
       "3  tt0000001         4                 Καρμενσίτα     GR      NaN   \n",
       "4  tt0000001         5                 Карменсита     RU      NaN   \n",
       "\n",
       "         types     attributes isOriginalTitle  \n",
       "0  imdbDisplay            NaN               0  \n",
       "1          NaN  literal title               0  \n",
       "2  imdbDisplay            NaN               0  \n",
       "3  imdbDisplay            NaN               0  \n",
       "4  imdbDisplay            NaN               0  "
      ]
     },
     "execution_count": 16,
     "metadata": {},
     "output_type": "execute_result"
    }
   ],
   "source": [
    "# data dictionary indicates nans replaced with /N, replacing with np.nan\n",
    "akas.replace({'\\\\N':np.nan}, inplace = True)\n",
    "akas.head()"
   ]
  },
  {
   "cell_type": "code",
   "execution_count": 17,
   "id": "9d078a69",
   "metadata": {
    "hidden": true
   },
   "outputs": [
    {
     "data": {
      "text/plain": [
       "titleId                   0\n",
       "ordering                  0\n",
       "title                     5\n",
       "region              1863557\n",
       "language            6270091\n",
       "types              27985091\n",
       "attributes         33032509\n",
       "isOriginalTitle        2187\n",
       "dtype: int64"
      ]
     },
     "execution_count": 17,
     "metadata": {},
     "output_type": "execute_result"
    }
   ],
   "source": [
    "akas.isna().sum()"
   ]
  },
  {
   "cell_type": "code",
   "execution_count": 18,
   "id": "ae9e5a6a",
   "metadata": {
    "hidden": true
   },
   "outputs": [
    {
     "data": {
      "text/plain": [
       "titleId            0\n",
       "ordering           0\n",
       "title              0\n",
       "region             0\n",
       "language           0\n",
       "types              0\n",
       "attributes         0\n",
       "isOriginalTitle    0\n",
       "dtype: int64"
      ]
     },
     "execution_count": 18,
     "metadata": {},
     "output_type": "execute_result"
    }
   ],
   "source": [
    "akas.dropna(inplace = True)\n",
    "akas.isna().sum()"
   ]
  },
  {
   "cell_type": "code",
   "execution_count": 19,
   "id": "26011f11",
   "metadata": {
    "hidden": true
   },
   "outputs": [
    {
     "data": {
      "text/plain": [
       "0"
      ]
     },
     "execution_count": 19,
     "metadata": {},
     "output_type": "execute_result"
    }
   ],
   "source": [
    "akas.duplicated().sum()"
   ]
  },
  {
   "cell_type": "code",
   "execution_count": 20,
   "id": "fc0a5c5b",
   "metadata": {
    "hidden": true
   },
   "outputs": [
    {
     "data": {
      "text/plain": [
       "titleId            435\n",
       "ordering            38\n",
       "title              451\n",
       "region               5\n",
       "language             4\n",
       "types                3\n",
       "attributes          38\n",
       "isOriginalTitle      1\n",
       "dtype: int64"
      ]
     },
     "execution_count": 20,
     "metadata": {},
     "output_type": "execute_result"
    }
   ],
   "source": [
    "akas.nunique()"
   ]
  },
  {
   "cell_type": "code",
   "execution_count": 21,
   "id": "a9168292",
   "metadata": {
    "hidden": true
   },
   "outputs": [
    {
     "name": "stdout",
     "output_type": "stream",
     "text": [
      "<class 'pandas.core.frame.DataFrame'>\n",
      "Int64Index: 453 entries, 100764 to 32801278\n",
      "Data columns (total 8 columns):\n",
      " #   Column           Non-Null Count  Dtype \n",
      "---  ------           --------------  ----- \n",
      " 0   titleId          453 non-null    object\n",
      " 1   ordering         453 non-null    int64 \n",
      " 2   title            453 non-null    object\n",
      " 3   region           453 non-null    object\n",
      " 4   language         453 non-null    object\n",
      " 5   types            453 non-null    object\n",
      " 6   attributes       453 non-null    object\n",
      " 7   isOriginalTitle  453 non-null    object\n",
      "dtypes: int64(1), object(7)\n",
      "memory usage: 31.9+ KB\n"
     ]
    }
   ],
   "source": [
    "akas.info()"
   ]
  },
  {
   "cell_type": "code",
   "execution_count": 22,
   "id": "d347a08f",
   "metadata": {
    "hidden": true
   },
   "outputs": [
    {
     "data": {
      "text/html": [
       "<div>\n",
       "<style scoped>\n",
       "    .dataframe tbody tr th:only-of-type {\n",
       "        vertical-align: middle;\n",
       "    }\n",
       "\n",
       "    .dataframe tbody tr th {\n",
       "        vertical-align: top;\n",
       "    }\n",
       "\n",
       "    .dataframe thead th {\n",
       "        text-align: right;\n",
       "    }\n",
       "</style>\n",
       "<table border=\"1\" class=\"dataframe\">\n",
       "  <thead>\n",
       "    <tr style=\"text-align: right;\">\n",
       "      <th></th>\n",
       "      <th>titleId</th>\n",
       "      <th>ordering</th>\n",
       "      <th>title</th>\n",
       "      <th>region</th>\n",
       "      <th>language</th>\n",
       "      <th>types</th>\n",
       "      <th>attributes</th>\n",
       "      <th>isOriginalTitle</th>\n",
       "    </tr>\n",
       "  </thead>\n",
       "  <tbody>\n",
       "    <tr>\n",
       "      <th>100764</th>\n",
       "      <td>tt0022542</td>\n",
       "      <td>1</td>\n",
       "      <td>Di shtime fun Yisroel</td>\n",
       "      <td>US</td>\n",
       "      <td>yi</td>\n",
       "      <td>alternative</td>\n",
       "      <td>YIVO translation</td>\n",
       "      <td>0</td>\n",
       "    </tr>\n",
       "    <tr>\n",
       "      <th>112667</th>\n",
       "      <td>tt0024265</td>\n",
       "      <td>4</td>\n",
       "      <td>Geleb un gelakht</td>\n",
       "      <td>US</td>\n",
       "      <td>yi</td>\n",
       "      <td>alternative</td>\n",
       "      <td>modern translation</td>\n",
       "      <td>0</td>\n",
       "    </tr>\n",
       "    <tr>\n",
       "      <th>116045</th>\n",
       "      <td>tt0024751</td>\n",
       "      <td>9</td>\n",
       "      <td>Avram Ovenu</td>\n",
       "      <td>US</td>\n",
       "      <td>yi</td>\n",
       "      <td>alternative</td>\n",
       "      <td>YIVO translation</td>\n",
       "      <td>0</td>\n",
       "    </tr>\n",
       "    <tr>\n",
       "      <th>124644</th>\n",
       "      <td>tt0026010</td>\n",
       "      <td>3</td>\n",
       "      <td>Der yidishe Kenigen Lir</td>\n",
       "      <td>US</td>\n",
       "      <td>yi</td>\n",
       "      <td>alternative</td>\n",
       "      <td>YIVO translation</td>\n",
       "      <td>0</td>\n",
       "    </tr>\n",
       "    <tr>\n",
       "      <th>138075</th>\n",
       "      <td>tt0027911</td>\n",
       "      <td>1</td>\n",
       "      <td>Libe un Laydnshaft</td>\n",
       "      <td>US</td>\n",
       "      <td>yi</td>\n",
       "      <td>alternative</td>\n",
       "      <td>modern translation</td>\n",
       "      <td>0</td>\n",
       "    </tr>\n",
       "    <tr>\n",
       "      <th>145670</th>\n",
       "      <td>tt0028902</td>\n",
       "      <td>4</td>\n",
       "      <td>Freylekhe kabtsonim</td>\n",
       "      <td>US</td>\n",
       "      <td>yi</td>\n",
       "      <td>alternative</td>\n",
       "      <td>YIVO translation</td>\n",
       "      <td>0</td>\n",
       "    </tr>\n",
       "    <tr>\n",
       "      <th>146144</th>\n",
       "      <td>tt0028957</td>\n",
       "      <td>4</td>\n",
       "      <td>Grine Felder</td>\n",
       "      <td>US</td>\n",
       "      <td>yi</td>\n",
       "      <td>alternative</td>\n",
       "      <td>YIVO translation</td>\n",
       "      <td>0</td>\n",
       "    </tr>\n",
       "    <tr>\n",
       "      <th>146598</th>\n",
       "      <td>tt0029013</td>\n",
       "      <td>3</td>\n",
       "      <td>Di heylige Shvue</td>\n",
       "      <td>US</td>\n",
       "      <td>yi</td>\n",
       "      <td>alternative</td>\n",
       "      <td>YIVO translation</td>\n",
       "      <td>0</td>\n",
       "    </tr>\n",
       "    <tr>\n",
       "      <th>146792</th>\n",
       "      <td>tt0029042</td>\n",
       "      <td>3</td>\n",
       "      <td>Ikh vil zayn a Mame</td>\n",
       "      <td>US</td>\n",
       "      <td>yi</td>\n",
       "      <td>alternative</td>\n",
       "      <td>YIVO translation</td>\n",
       "      <td>0</td>\n",
       "    </tr>\n",
       "    <tr>\n",
       "      <th>152375</th>\n",
       "      <td>tt0029765</td>\n",
       "      <td>3</td>\n",
       "      <td>Vu iz mayn Kind?</td>\n",
       "      <td>US</td>\n",
       "      <td>yi</td>\n",
       "      <td>alternative</td>\n",
       "      <td>YIVO translation</td>\n",
       "      <td>0</td>\n",
       "    </tr>\n",
       "    <tr>\n",
       "      <th>160900</th>\n",
       "      <td>tt0030904</td>\n",
       "      <td>5</td>\n",
       "      <td>Tsvaye Shvester</td>\n",
       "      <td>US</td>\n",
       "      <td>yi</td>\n",
       "      <td>alternative</td>\n",
       "      <td>YIVO translation</td>\n",
       "      <td>0</td>\n",
       "    </tr>\n",
       "    <tr>\n",
       "      <th>167138</th>\n",
       "      <td>tt0031697</td>\n",
       "      <td>5</td>\n",
       "      <td>Mayn Zundele</td>\n",
       "      <td>US</td>\n",
       "      <td>yi</td>\n",
       "      <td>alternative</td>\n",
       "      <td>modern translation</td>\n",
       "      <td>0</td>\n",
       "    </tr>\n",
       "    <tr>\n",
       "      <th>173768</th>\n",
       "      <td>tt0032552</td>\n",
       "      <td>2</td>\n",
       "      <td>Der groyser Eytse-geber</td>\n",
       "      <td>US</td>\n",
       "      <td>yi</td>\n",
       "      <td>alternative</td>\n",
       "      <td>YIVO translation</td>\n",
       "      <td>0</td>\n",
       "    </tr>\n",
       "    <tr>\n",
       "      <th>174031</th>\n",
       "      <td>tt0032582</td>\n",
       "      <td>2</td>\n",
       "      <td>Ir tsveyte Mame</td>\n",
       "      <td>US</td>\n",
       "      <td>yi</td>\n",
       "      <td>alternative</td>\n",
       "      <td>YIVO translation</td>\n",
       "      <td>0</td>\n",
       "    </tr>\n",
       "    <tr>\n",
       "      <th>174573</th>\n",
       "      <td>tt0032649</td>\n",
       "      <td>1</td>\n",
       "      <td>Der yidisher Nigh</td>\n",
       "      <td>US</td>\n",
       "      <td>yi</td>\n",
       "      <td>alternative</td>\n",
       "      <td>YIVO translation</td>\n",
       "      <td>0</td>\n",
       "    </tr>\n",
       "    <tr>\n",
       "      <th>178955</th>\n",
       "      <td>tt0033225</td>\n",
       "      <td>3</td>\n",
       "      <td>Der vilner Shtot Khazn</td>\n",
       "      <td>US</td>\n",
       "      <td>yi</td>\n",
       "      <td>alternative</td>\n",
       "      <td>YIVO translation</td>\n",
       "      <td>0</td>\n",
       "    </tr>\n",
       "    <tr>\n",
       "      <th>178956</th>\n",
       "      <td>tt0033225</td>\n",
       "      <td>4</td>\n",
       "      <td>The Vilna Town Cantor</td>\n",
       "      <td>US</td>\n",
       "      <td>yi</td>\n",
       "      <td>alternative</td>\n",
       "      <td>YIVO translation</td>\n",
       "      <td>0</td>\n",
       "    </tr>\n",
       "    <tr>\n",
       "      <th>1022275</th>\n",
       "      <td>tt0129068</td>\n",
       "      <td>3</td>\n",
       "      <td>Eybike Naronim</td>\n",
       "      <td>US</td>\n",
       "      <td>yi</td>\n",
       "      <td>alternative</td>\n",
       "      <td>modern translation</td>\n",
       "      <td>0</td>\n",
       "    </tr>\n",
       "    <tr>\n",
       "      <th>1022467</th>\n",
       "      <td>tt0129118</td>\n",
       "      <td>4</td>\n",
       "      <td>Got, Mentsh, un Tayvl</td>\n",
       "      <td>US</td>\n",
       "      <td>yi</td>\n",
       "      <td>alternative</td>\n",
       "      <td>YIVO translation</td>\n",
       "      <td>0</td>\n",
       "    </tr>\n",
       "    <tr>\n",
       "      <th>1022954</th>\n",
       "      <td>tt0129247</td>\n",
       "      <td>5</td>\n",
       "      <td>Mayn Yidishe Mame</td>\n",
       "      <td>US</td>\n",
       "      <td>yi</td>\n",
       "      <td>alternative</td>\n",
       "      <td>modern translation</td>\n",
       "      <td>0</td>\n",
       "    </tr>\n",
       "    <tr>\n",
       "      <th>1026001</th>\n",
       "      <td>tt0130043</td>\n",
       "      <td>4</td>\n",
       "      <td>Am Yisroel Kay</td>\n",
       "      <td>US</td>\n",
       "      <td>yi</td>\n",
       "      <td>alternative</td>\n",
       "      <td>YIVO translation</td>\n",
       "      <td>0</td>\n",
       "    </tr>\n",
       "    <tr>\n",
       "      <th>1027088</th>\n",
       "      <td>tt0130312</td>\n",
       "      <td>2</td>\n",
       "      <td>Dray Tekhter</td>\n",
       "      <td>US</td>\n",
       "      <td>yi</td>\n",
       "      <td>alternative</td>\n",
       "      <td>YIVO translation</td>\n",
       "      <td>0</td>\n",
       "    </tr>\n",
       "  </tbody>\n",
       "</table>\n",
       "</div>"
      ],
      "text/plain": [
       "           titleId  ordering                    title region language  \\\n",
       "100764   tt0022542         1    Di shtime fun Yisroel     US       yi   \n",
       "112667   tt0024265         4         Geleb un gelakht     US       yi   \n",
       "116045   tt0024751         9              Avram Ovenu     US       yi   \n",
       "124644   tt0026010         3  Der yidishe Kenigen Lir     US       yi   \n",
       "138075   tt0027911         1       Libe un Laydnshaft     US       yi   \n",
       "145670   tt0028902         4      Freylekhe kabtsonim     US       yi   \n",
       "146144   tt0028957         4             Grine Felder     US       yi   \n",
       "146598   tt0029013         3         Di heylige Shvue     US       yi   \n",
       "146792   tt0029042         3      Ikh vil zayn a Mame     US       yi   \n",
       "152375   tt0029765         3         Vu iz mayn Kind?     US       yi   \n",
       "160900   tt0030904         5          Tsvaye Shvester     US       yi   \n",
       "167138   tt0031697         5             Mayn Zundele     US       yi   \n",
       "173768   tt0032552         2  Der groyser Eytse-geber     US       yi   \n",
       "174031   tt0032582         2          Ir tsveyte Mame     US       yi   \n",
       "174573   tt0032649         1        Der yidisher Nigh     US       yi   \n",
       "178955   tt0033225         3   Der vilner Shtot Khazn     US       yi   \n",
       "178956   tt0033225         4    The Vilna Town Cantor     US       yi   \n",
       "1022275  tt0129068         3           Eybike Naronim     US       yi   \n",
       "1022467  tt0129118         4    Got, Mentsh, un Tayvl     US       yi   \n",
       "1022954  tt0129247         5        Mayn Yidishe Mame     US       yi   \n",
       "1026001  tt0130043         4           Am Yisroel Kay     US       yi   \n",
       "1027088  tt0130312         2             Dray Tekhter     US       yi   \n",
       "\n",
       "               types          attributes isOriginalTitle  \n",
       "100764   alternative    YIVO translation               0  \n",
       "112667   alternative  modern translation               0  \n",
       "116045   alternative    YIVO translation               0  \n",
       "124644   alternative    YIVO translation               0  \n",
       "138075   alternative  modern translation               0  \n",
       "145670   alternative    YIVO translation               0  \n",
       "146144   alternative    YIVO translation               0  \n",
       "146598   alternative    YIVO translation               0  \n",
       "146792   alternative    YIVO translation               0  \n",
       "152375   alternative    YIVO translation               0  \n",
       "160900   alternative    YIVO translation               0  \n",
       "167138   alternative  modern translation               0  \n",
       "173768   alternative    YIVO translation               0  \n",
       "174031   alternative    YIVO translation               0  \n",
       "174573   alternative    YIVO translation               0  \n",
       "178955   alternative    YIVO translation               0  \n",
       "178956   alternative    YIVO translation               0  \n",
       "1022275  alternative  modern translation               0  \n",
       "1022467  alternative    YIVO translation               0  \n",
       "1022954  alternative  modern translation               0  \n",
       "1026001  alternative    YIVO translation               0  \n",
       "1027088  alternative    YIVO translation               0  "
      ]
     },
     "execution_count": 22,
     "metadata": {},
     "output_type": "execute_result"
    }
   ],
   "source": [
    "#showing only movies made in the use\n",
    "is_US_Movie = akas['region'].str.contains('US',case=False)\n",
    "akas = akas[is_US_Movie]\n",
    "akas"
   ]
  },
  {
   "cell_type": "code",
   "execution_count": 23,
   "id": "f26b4454",
   "metadata": {
    "hidden": true
   },
   "outputs": [
    {
     "data": {
      "text/plain": [
       "Series([], Name: tconst, dtype: bool)"
      ]
     },
     "execution_count": 23,
     "metadata": {},
     "output_type": "execute_result"
    }
   ],
   "source": [
    "# Filter the basics table down to only include the US by using the filter akas dataframe\n",
    "keepers =basics['tconst'].isin(akas['titleId'])\n",
    "keepers"
   ]
  },
  {
   "cell_type": "markdown",
   "id": "1c8fb1f9",
   "metadata": {
    "hidden": true
   },
   "source": [
    "## Ratings Data and Cleaning"
   ]
  },
  {
   "cell_type": "code",
   "execution_count": 24,
   "id": "0920dc4c",
   "metadata": {
    "hidden": true
   },
   "outputs": [
    {
     "data": {
      "text/html": [
       "<div>\n",
       "<style scoped>\n",
       "    .dataframe tbody tr th:only-of-type {\n",
       "        vertical-align: middle;\n",
       "    }\n",
       "\n",
       "    .dataframe tbody tr th {\n",
       "        vertical-align: top;\n",
       "    }\n",
       "\n",
       "    .dataframe thead th {\n",
       "        text-align: right;\n",
       "    }\n",
       "</style>\n",
       "<table border=\"1\" class=\"dataframe\">\n",
       "  <thead>\n",
       "    <tr style=\"text-align: right;\">\n",
       "      <th></th>\n",
       "      <th>tconst</th>\n",
       "      <th>averageRating</th>\n",
       "      <th>numVotes</th>\n",
       "    </tr>\n",
       "  </thead>\n",
       "  <tbody>\n",
       "    <tr>\n",
       "      <th>0</th>\n",
       "      <td>tt0000001</td>\n",
       "      <td>5.7</td>\n",
       "      <td>1910</td>\n",
       "    </tr>\n",
       "    <tr>\n",
       "      <th>1</th>\n",
       "      <td>tt0000002</td>\n",
       "      <td>5.8</td>\n",
       "      <td>257</td>\n",
       "    </tr>\n",
       "    <tr>\n",
       "      <th>2</th>\n",
       "      <td>tt0000003</td>\n",
       "      <td>6.5</td>\n",
       "      <td>1715</td>\n",
       "    </tr>\n",
       "    <tr>\n",
       "      <th>3</th>\n",
       "      <td>tt0000004</td>\n",
       "      <td>5.6</td>\n",
       "      <td>169</td>\n",
       "    </tr>\n",
       "    <tr>\n",
       "      <th>4</th>\n",
       "      <td>tt0000005</td>\n",
       "      <td>6.2</td>\n",
       "      <td>2530</td>\n",
       "    </tr>\n",
       "  </tbody>\n",
       "</table>\n",
       "</div>"
      ],
      "text/plain": [
       "      tconst  averageRating  numVotes\n",
       "0  tt0000001            5.7      1910\n",
       "1  tt0000002            5.8       257\n",
       "2  tt0000003            6.5      1715\n",
       "3  tt0000004            5.6       169\n",
       "4  tt0000005            6.2      2530"
      ]
     },
     "execution_count": 24,
     "metadata": {},
     "output_type": "execute_result"
    }
   ],
   "source": [
    "# Getting overview of the data\n",
    "ratings.head()"
   ]
  },
  {
   "cell_type": "code",
   "execution_count": 25,
   "id": "2b8a3772",
   "metadata": {
    "hidden": true
   },
   "outputs": [
    {
     "name": "stdout",
     "output_type": "stream",
     "text": [
      "<class 'pandas.core.frame.DataFrame'>\n",
      "RangeIndex: 1261448 entries, 0 to 1261447\n",
      "Data columns (total 3 columns):\n",
      " #   Column         Non-Null Count    Dtype  \n",
      "---  ------         --------------    -----  \n",
      " 0   tconst         1261448 non-null  object \n",
      " 1   averageRating  1261448 non-null  float64\n",
      " 2   numVotes       1261448 non-null  int64  \n",
      "dtypes: float64(1), int64(1), object(1)\n",
      "memory usage: 28.9+ MB\n"
     ]
    }
   ],
   "source": [
    "ratings.info()"
   ]
  },
  {
   "cell_type": "code",
   "execution_count": 26,
   "id": "3b08037a",
   "metadata": {
    "hidden": true
   },
   "outputs": [
    {
     "data": {
      "text/plain": [
       "tconst           0\n",
       "averageRating    0\n",
       "numVotes         0\n",
       "dtype: int64"
      ]
     },
     "execution_count": 26,
     "metadata": {},
     "output_type": "execute_result"
    }
   ],
   "source": [
    "# data dictionary indicates nans replaced with /N, replacing with np.nan\n",
    "ratings.replace({'\\\\N':np.nan}, inplace = True)\n",
    "ratings.isna().sum()"
   ]
  },
  {
   "cell_type": "code",
   "execution_count": 27,
   "id": "daecb40a",
   "metadata": {
    "hidden": true
   },
   "outputs": [
    {
     "data": {
      "text/plain": [
       "0"
      ]
     },
     "execution_count": 27,
     "metadata": {},
     "output_type": "execute_result"
    }
   ],
   "source": [
    "# checking duplicates\n",
    "ratings.duplicated().sum()"
   ]
  },
  {
   "cell_type": "code",
   "execution_count": 28,
   "id": "898b8a4a",
   "metadata": {
    "hidden": true
   },
   "outputs": [
    {
     "data": {
      "text/html": [
       "<div>\n",
       "<style scoped>\n",
       "    .dataframe tbody tr th:only-of-type {\n",
       "        vertical-align: middle;\n",
       "    }\n",
       "\n",
       "    .dataframe tbody tr th {\n",
       "        vertical-align: top;\n",
       "    }\n",
       "\n",
       "    .dataframe thead th {\n",
       "        text-align: right;\n",
       "    }\n",
       "</style>\n",
       "<table border=\"1\" class=\"dataframe\">\n",
       "  <thead>\n",
       "    <tr style=\"text-align: right;\">\n",
       "      <th></th>\n",
       "      <th>averageRating</th>\n",
       "      <th>numVotes</th>\n",
       "    </tr>\n",
       "  </thead>\n",
       "  <tbody>\n",
       "    <tr>\n",
       "      <th>count</th>\n",
       "      <td>1.261448e+06</td>\n",
       "      <td>1.261448e+06</td>\n",
       "    </tr>\n",
       "    <tr>\n",
       "      <th>mean</th>\n",
       "      <td>6.911323e+00</td>\n",
       "      <td>1.017598e+03</td>\n",
       "    </tr>\n",
       "    <tr>\n",
       "      <th>std</th>\n",
       "      <td>1.390662e+00</td>\n",
       "      <td>1.704392e+04</td>\n",
       "    </tr>\n",
       "    <tr>\n",
       "      <th>min</th>\n",
       "      <td>1.000000e+00</td>\n",
       "      <td>5.000000e+00</td>\n",
       "    </tr>\n",
       "    <tr>\n",
       "      <th>25%</th>\n",
       "      <td>6.200000e+00</td>\n",
       "      <td>1.100000e+01</td>\n",
       "    </tr>\n",
       "    <tr>\n",
       "      <th>50%</th>\n",
       "      <td>7.100000e+00</td>\n",
       "      <td>2.500000e+01</td>\n",
       "    </tr>\n",
       "    <tr>\n",
       "      <th>75%</th>\n",
       "      <td>7.900000e+00</td>\n",
       "      <td>9.700000e+01</td>\n",
       "    </tr>\n",
       "    <tr>\n",
       "      <th>max</th>\n",
       "      <td>1.000000e+01</td>\n",
       "      <td>2.642623e+06</td>\n",
       "    </tr>\n",
       "  </tbody>\n",
       "</table>\n",
       "</div>"
      ],
      "text/plain": [
       "       averageRating      numVotes\n",
       "count   1.261448e+06  1.261448e+06\n",
       "mean    6.911323e+00  1.017598e+03\n",
       "std     1.390662e+00  1.704392e+04\n",
       "min     1.000000e+00  5.000000e+00\n",
       "25%     6.200000e+00  1.100000e+01\n",
       "50%     7.100000e+00  2.500000e+01\n",
       "75%     7.900000e+00  9.700000e+01\n",
       "max     1.000000e+01  2.642623e+06"
      ]
     },
     "execution_count": 28,
     "metadata": {},
     "output_type": "execute_result"
    }
   ],
   "source": [
    "ratings.describe()"
   ]
  },
  {
   "cell_type": "code",
   "execution_count": 29,
   "id": "341bb04d",
   "metadata": {
    "hidden": true
   },
   "outputs": [
    {
     "data": {
      "text/plain": [
       "Series([], Name: tconst, dtype: bool)"
      ]
     },
     "execution_count": 29,
     "metadata": {},
     "output_type": "execute_result"
    }
   ],
   "source": [
    "# Filter the basics table down to only include the US by using the filter ratings dataframe\n",
    "keepers2 =basics['tconst'].isin(ratings['tconst'])\n",
    "keepers2\n",
    "\n"
   ]
  },
  {
   "cell_type": "markdown",
   "id": "0f803dc6",
   "metadata": {
    "hidden": true
   },
   "source": [
    "## Saving Data as csv\n"
   ]
  },
  {
   "cell_type": "code",
   "execution_count": 30,
   "id": "6ca7a562",
   "metadata": {
    "hidden": true
   },
   "outputs": [],
   "source": [
    "## Save current dataframe to file.\n",
    "basics.to_csv(\"Data/title_basics.csv.gz\",compression='gzip',index=False)\n",
    "akas.to_csv('Data/title.akas.csv.gz',compression = 'gzip', index=False)\n",
    "ratings.to_csv('Data/title.ratings.csv.gz', compression = 'gzip', index=False)"
   ]
  },
  {
   "cell_type": "markdown",
   "id": "9d24e8aa",
   "metadata": {},
   "source": [
    "# Part 2 "
   ]
  },
  {
   "cell_type": "markdown",
   "id": "41e5b13c",
   "metadata": {},
   "source": [
    "Use an API to extract box office revenue and profit data to add to your IMDB data and perform exploratory data analysis.\n",
    "\n",
    "Your stakeholder would like you to extract and save the results for movies that meet all of the criteria established in part 1 of the project (You should already have a filtered dataframe saved from part one as a csv.gz file)\n",
    "\n",
    "As a proof-of-concept, they requested you perform a test extraction of movies that started in 2000 or 2001\n",
    "\n",
    "Each year should be saved as a separate .csv.gz file"
   ]
  },
  {
   "cell_type": "code",
   "execution_count": 31,
   "id": "dd05fb02",
   "metadata": {},
   "outputs": [],
   "source": [
    "import os, time, json\n",
    "import tmdbsimple as tmdb \n",
    "with open('C:/Users/Sean/.edit/tmdb_api.json', 'r') as f:\n",
    "    login = json.load(f)\n",
    "from tqdm.notebook import tqdm_notebook\n",
    "## Display the keys of the loaded dict\n",
    "login.keys()\n",
    "tmdb.API_KEY =  login['api-key']\n"
   ]
  },
  {
   "cell_type": "code",
   "execution_count": 32,
   "id": "159695e3",
   "metadata": {},
   "outputs": [
    {
     "data": {
      "text/plain": [
       "['title_basics.csv.gz',\n",
       " 'title.akas.csv.gz',\n",
       " 'title.ratings.csv.gz',\n",
       " 'tmdb_api_results_2000.json',\n",
       " 'tmdb_api_results_2001.json',\n",
       " 'final_tmdb_data_2001.csv.gz',\n",
       " '.ipynb_checkpoints']"
      ]
     },
     "execution_count": 32,
     "metadata": {},
     "output_type": "execute_result"
    }
   ],
   "source": [
    "#saving api call data\n",
    "FOLDER = \"Data/\"\n",
    "os.makedirs(FOLDER, exist_ok=True)\n",
    "os.listdir(FOLDER)"
   ]
  },
  {
   "cell_type": "code",
   "execution_count": 33,
   "id": "d3f3bb15",
   "metadata": {},
   "outputs": [],
   "source": [
    "def write_json(new_data, filename): \n",
    "    \"\"\"Appends a list of records (new_data) to a json file (filename). \n",
    "    Adapted from: https://www.geeksforgeeks.org/append-to-json-file-using-python/\"\"\"  \n",
    "    \n",
    "    with open(filename,'r+') as file:\n",
    "        # First we load existing data into a dict.\n",
    "        file_data = json.load(file)\n",
    "        ## Choose extend or append\n",
    "        if (type(new_data) == list) & (type(file_data) == list):\n",
    "            file_data.extend(new_data)\n",
    "        else:\n",
    "             file_data.append(new_data)\n",
    "        # Sets file's current position at offset.\n",
    "        file.seek(0)\n",
    "        # convert back to json.\n",
    "        json.dump(file_data, file)\n"
   ]
  },
  {
   "cell_type": "code",
   "execution_count": 34,
   "id": "f2e74a21",
   "metadata": {},
   "outputs": [],
   "source": [
    "# Load in the dataframe from project part 1 as basics:\n",
    "basics = pd.read_csv('Data/title_basics.csv.gz')\n",
    "\n",
    "\n"
   ]
  },
  {
   "cell_type": "code",
   "execution_count": 35,
   "id": "637ae228",
   "metadata": {},
   "outputs": [],
   "source": [
    "#defining a list of years\n",
    "YEARS_TO_GET = [2000,2001]"
   ]
  },
  {
   "cell_type": "code",
   "execution_count": 36,
   "id": "f25fd52c",
   "metadata": {},
   "outputs": [],
   "source": [
    "# defining an errors list\n",
    "errors = [ ]"
   ]
  },
  {
   "cell_type": "markdown",
   "id": "de001beb",
   "metadata": {},
   "source": [
    "## Loop Extraction"
   ]
  },
  {
   "cell_type": "code",
   "execution_count": 37,
   "id": "71c13f24",
   "metadata": {
    "scrolled": false
   },
   "outputs": [
    {
     "data": {
      "application/vnd.jupyter.widget-view+json": {
       "model_id": "dfb09382ed424e91ae23be14d703d6ed",
       "version_major": 2,
       "version_minor": 0
      },
      "text/plain": [
       "YEARS:   0%|          | 0/2 [00:00<?, ?it/s]"
      ]
     },
     "metadata": {},
     "output_type": "display_data"
    },
    {
     "data": {
      "application/vnd.jupyter.widget-view+json": {
       "model_id": "0b51bd279ac44cc6b9f9c4d667b4ca11",
       "version_major": 2,
       "version_minor": 0
      },
      "text/plain": [
       "Movies from 2000: 0it [00:00, ?it/s]"
      ]
     },
     "metadata": {},
     "output_type": "display_data"
    },
    {
     "data": {
      "application/vnd.jupyter.widget-view+json": {
       "model_id": "3d889c1df0354d4d8003652750bc5bff",
       "version_major": 2,
       "version_minor": 0
      },
      "text/plain": [
       "Movies from 2001: 0it [00:00, ?it/s]"
      ]
     },
     "metadata": {},
     "output_type": "display_data"
    }
   ],
   "source": [
    "# Start of OUTER loop\n",
    "for YEAR in tqdm_notebook(YEARS_TO_GET, desc='YEARS', position=0):\n",
    "#Defining the JSON file to store results for year\n",
    "    JSON_FILE = f'{FOLDER}tmdb_api_results_{YEAR}.json'\n",
    "# Check if file exists\n",
    "    file_exists = os.path.isfile(JSON_FILE)\n",
    "# If it does not exist: create it\n",
    "    if file_exists == False:\n",
    "# save an empty dict with just \"imdb_id\" to the new json file.\n",
    "        with open(JSON_FILE,'w') as f:\n",
    "            json.dump([{'imdb_id':0}],f)\n",
    "#Saving new year as the current df\n",
    "    df = basics.loc[ basics['startYear']==YEAR].copy()\n",
    "# saving movie ids to list\n",
    "    movie_ids = df['tconst'].copy()    \n",
    "# Load existing data from json into a dataframe called \"previous_df\"\n",
    "    previous_df = pd.read_json(JSON_FILE)\n",
    "# filter out any ids that are already in the JSON_FILE\n",
    "    movie_ids_to_get = movie_ids[~movie_ids.isin(previous_df['imdb_id'])]\n",
    " #Get index and movie id from list\n",
    "    # INNER Loop\n",
    "    for movie_id in tqdm_notebook(movie_ids_to_get,\n",
    "                                  desc=f'Movies from {YEAR}',\n",
    "                                  position=1,\n",
    "                                  leave=True):\n",
    "        try:\n",
    " # Retrieve the data for the movie id\n",
    "            temp = get_movie_with_rating(movie_id)  \n",
    " # Append/extend results to existing file using a pre-made function\n",
    "            write_json(temp,JSON_FILE)\n",
    "# Short 20 ms sleep to prevent overwhelming server\n",
    "            time.sleep(0.02)\n",
    "            \n",
    "        except Exception as e:\n",
    "            errors.append([movie_id, e])\n",
    "final_year_df = pd.read_json(JSON_FILE)\n",
    "final_year_df.to_csv(f\"{FOLDER}final_tmdb_data_{YEAR}.csv.gz\", compression=\"gzip\",\n",
    "                     index=False)"
   ]
  },
  {
   "cell_type": "code",
   "execution_count": 38,
   "id": "cc3c3a37",
   "metadata": {},
   "outputs": [
    {
     "name": "stdout",
     "output_type": "stream",
     "text": [
      "- Total errors: 0\n"
     ]
    }
   ],
   "source": [
    "#any movie ids that caused an error?\n",
    "print(f\"- Total errors: {len(errors)}\") "
   ]
  },
  {
   "cell_type": "markdown",
   "id": "b1bafe96",
   "metadata": {},
   "source": [
    "Load in your csv.gz's of results for each year extracted.\n",
    "Concatenate the data into 1 dataframe for the remainder of the analysis.\n",
    "Once you have your data from the API, they would like you to perform some light EDA to show:\n",
    "1. How many movies had at least some valid financial information (values > 0 for budget OR revenue)?\n",
    "* Please exclude any movies with 0's for budget AND revenue from the remaining visualizations.\n",
    "2. How many movies are there in each of the certification categories (G/PG/PG-13/R)?\n",
    "3. What is the average revenue per certification category?\n",
    "4. What is the average budget per certification category?\n",
    "\n"
   ]
  },
  {
   "cell_type": "code",
   "execution_count": null,
   "id": "8199403e",
   "metadata": {},
   "outputs": [],
   "source": []
  },
  {
   "cell_type": "code",
   "execution_count": null,
   "id": "e5bf9531",
   "metadata": {},
   "outputs": [],
   "source": []
  },
  {
   "cell_type": "code",
   "execution_count": null,
   "id": "bee9cacd",
   "metadata": {},
   "outputs": [],
   "source": []
  },
  {
   "cell_type": "code",
   "execution_count": null,
   "id": "fd9aeb79",
   "metadata": {},
   "outputs": [],
   "source": []
  }
 ],
 "metadata": {
  "kernelspec": {
   "display_name": "Python (dojo-env)",
   "language": "python",
   "name": "dojo-env"
  },
  "language_info": {
   "codemirror_mode": {
    "name": "ipython",
    "version": 3
   },
   "file_extension": ".py",
   "mimetype": "text/x-python",
   "name": "python",
   "nbconvert_exporter": "python",
   "pygments_lexer": "ipython3",
   "version": "3.8.13"
  },
  "toc": {
   "base_numbering": 1,
   "nav_menu": {},
   "number_sections": true,
   "sideBar": true,
   "skip_h1_title": false,
   "title_cell": "Table of Contents",
   "title_sidebar": "Contents",
   "toc_cell": false,
   "toc_position": {},
   "toc_section_display": true,
   "toc_window_display": false
  }
 },
 "nbformat": 4,
 "nbformat_minor": 5
}
